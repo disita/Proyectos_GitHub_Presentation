{
 "cells": [
  {
   "cell_type": "markdown",
   "id": "cbfba645",
   "metadata": {
    "slideshow": {
     "slide_type": "slide"
    }
   },
   "source": [
    "# Excuse me, do you have a moment to talk about version control?\n",
    "\n",
    "## Jeniffer Bryan (2017)\n",
    "\n",
    "---\n",
    "\n",
    "### Presentan:\n",
    "\n",
    "Victor Tellez García\n",
    "\n",
    "Daniel Isita Ascencio\n",
    "\n"
   ]
  },
  {
   "cell_type": "markdown",
   "id": "7e396516",
   "metadata": {
    "slideshow": {
     "slide_type": "slide"
    }
   },
   "source": [
    "![](https://img.devrant.com/devrant/rant/r_1485824_tQLAL.jpg)\n",
    "\n",
    "[Fuente: devRant](https://img.devrant.com/devrant/rant/r_1485824_tQLAL.jpg)"
   ]
  },
  {
   "cell_type": "markdown",
   "id": "b2ecd67c",
   "metadata": {
    "slideshow": {
     "slide_type": "slide"
    }
   },
   "source": [
    "## Contenido\n",
    "\n",
    "1. Introducción\n",
    "2. ¿Por qué Git?\n",
    "3. ¿Qué es Git?\n",
    "4. ¿Quién debería leer esto y qué puede esperar?\n",
    "5. ¿Qué es GitHub?\n",
    "6. Configuración inicial del sistema\n",
    "7. Repositorios y flujos de trabajo\n",
    "8. Commits, diffs y tags\n",
    "9. Markdown es especial en GitHub\n",
    "10. Markdown es especial para usuarios de R\n",
    "11. Con qué archivos hacer _commit_\n",
    "12. Colaboración\n",
    "13. GitHub como presencia web\n",
    "14. ¿Qué sigue?\n",
    "15. Llamada a la acción\n",
    "16. Referencias"
   ]
  },
  {
   "cell_type": "markdown",
   "id": "a482ecc5",
   "metadata": {
    "slideshow": {
     "slide_type": "slide"
    }
   },
   "source": [
    "## 1. Introducción\n",
    "\n",
    "Esta presentación se creó con la finalidad de exponer a la clase la lectura de _Excuse me, do you have a moment to talk about version control?_ (Brayan, 2017), como parte del control de lecturas de la clase de **Desarrollo de Proyectos I** de la Maestría en Ciencia de Datos (MCD) de la Universidad de Guadalajara.\n",
    "\n",
    "Así, el texto se centra en cómo aplicar herramientas de gestión de archivos y control de cambios en proyectos estadísticos y de ciencia de datos, especialmente en aquellos que usan `R` y `RMarkdown`, con enlaces a recursos de aprendizaje.\n",
    "\n",
    "**Nota:** la presentación fue elaborada en `Markdown` a través de `jupyer Notebook`. Se puede acceder al repositorio de GitHub haciendo _click_ [aquí](https://github.com/disita/Proyectos_GitHub_Presentation).\n",
    "\n"
   ]
  },
  {
   "cell_type": "markdown",
   "id": "f4c40ab2",
   "metadata": {
    "slideshow": {
     "slide_type": "slide"
    }
   },
   "source": [
    "## 2. ¿Por qué Git?\n",
    "\n",
    "¿Por qué alguien usaría un sistema de control de versiones?\n",
    "\n",
    "¿Cuál es el punto de que sea en línea?\n",
    "\n",
    "Existen algunos **beneficios**:\n",
    "\n",
    "* Más organización\n",
    "* Para colaboraciones con otras personas\n",
    "* Esfuerzo marginal \n",
    "* GitHub se vincula muy bien con leguajes como R, Python, Julia...\n",
    "* Aprendizajes más rápidos (evitar re-aprender en un proyecto)\n",
    "\n",
    "Lo **malo**: Git puede tener una curva de aprendizaje y dificultades, pero se sugiere el uso de herramientas y enfoques específicos para hacer que trabajar con Git sea más eficiente y menos frustrante.\n"
   ]
  },
  {
   "cell_type": "markdown",
   "id": "52320a5b",
   "metadata": {
    "slideshow": {
     "slide_type": "slide"
    }
   },
   "source": [
    "## 3. ¿Qué es Git?\n",
    "\n",
    "Git, es un **sistema de control de versiones**. \n",
    "\n",
    "Su función original era ayudar a grupos de desarrolladores a trabajar colaborativamente en grandes proyectos de software.\n",
    "\n",
    "Git administra la evolución de un conjunto de archivos (llamados repositorios o *repos*) de una manera **muy estructurada**. Además, da seguimiento a los cambios elaboradores durante el proyecto.\n",
    "\n",
    "De manera concreta, Git rastrea la evolución de un archivo a través de _commits_, a través de los cuales se enfatiza la importancia de adoptar su formalismo a pesar de posibles dificultades."
   ]
  },
  {
   "cell_type": "markdown",
   "id": "a34ff962",
   "metadata": {
    "slideshow": {
     "slide_type": "slide"
    }
   },
   "source": [
    "## 4. ¿Quién debería leer esto y qué puede esperar?\n",
    "\n",
    "El lector objetivo es cualquiera que haga investigacines, análisis o instrucción estadísca. \n",
    "\n",
    "Sin embargo, el artículo no brinda instrucciones detalladas sobre Git y GitHub, pero motiva a los interesados a comenzar mediante una descripción de la experiencia y ventajas del flujo de trabajo, especialmente en estadísticas y R, junto con enlaces a recursos relacionados."
   ]
  },
  {
   "cell_type": "markdown",
   "id": "08582d25",
   "metadata": {
    "slideshow": {
     "slide_type": "slide"
    }
   },
   "source": [
    "![](http://www.quickmeme.com/img/75/7509f68823389e4af3777ca6d3744c632cc32ab3547bc56e319126aa29ab149a.jpg)\n",
    "\n",
    "[Fuente: quickmeme](http://www.quickmeme.com/p/3vs3uz)"
   ]
  },
  {
   "cell_type": "markdown",
   "id": "85b8be46",
   "metadata": {
    "slideshow": {
     "slide_type": "slide"
    }
   },
   "source": [
    "## 5. ¿Qué es **GitHub**?\n",
    "\n",
    "GitHub complementa Git al proporcionar una interfaz de usuario y un mecanismo de distribución para repositorios Git. **Git se utiliza** localmente para registrar cambios en archivos, mientras que **GitHub es un servicio de alojamiento en la nube** que ofrece un *espacio* para proyectos Git. GitHub ofrece un entorno estructurado y programable similar a Dropbox o Google Drive, pero más potente.\n",
    "\n",
    "En GitHub, el servidor remoto actúa como distribuidor de proyectos gestionados por Git, permitiendo a otros explorar archivos, historiales, sincronizarse con la versión actual y proponer cambios. La interfaz web de GitHub es más eficiente que los servidores Git Unix tradicionales, y muchas operaciones se pueden realizar en el navegador, incluida la edición de archivos."
   ]
  },
  {
   "cell_type": "markdown",
   "id": "674ac89a",
   "metadata": {
    "slideshow": {
     "slide_type": "slide"
    }
   },
   "source": [
    "## 5. ¿Qué es **GitHub**?\n",
    "\n",
    "Incluso para proyectos individuales privados, resulta util mantener una copia sincronizada en GitHub, ya que facilita la recuperación en caso de problemas de seguimiento de Git y ofrece una forma agradable de navegar y buscar archivos. GitHub también ofrece control granular sobre quién puede ver, editar y administrar un proyecto.\n",
    "\n",
    "Además, GitHub _issues_ son una característica poderosa para el seguimiento de problemas y tareas de proyectos. Los _issues_ se utilizan para organizar listas de tareas y pueden asignarse a personas y etiquetarse para una mejor organización. Las conversaciones sobre un proyecto se registran en los _issues_, lo que facilita el seguimiento y la búsqueda. "
   ]
  },
  {
   "cell_type": "markdown",
   "id": "0247bbd5",
   "metadata": {
    "slideshow": {
     "slide_type": "slide"
    }
   },
   "source": [
    "![](https://github.com/disita/Proyectos_GitHub_Presentation/blob/main/Imagenes/github.png?raw=true)\n",
    "\n",
    "Con Git, todos los contribuyentes tienen una copia del repositorio, con todos los archivos y el historial completo. Es típico mantenerse sincronizado mediante el uso de un repositorio remoto central, como GitHub. Los controles remotos alojados como GitHub también brindan acceso al repositorio a través de un navegador web.\n",
    "\n",
    "Fuente: Brayan, 2017"
   ]
  },
  {
   "cell_type": "markdown",
   "id": "7d890443",
   "metadata": {
    "slideshow": {
     "slide_type": "slide"
    }
   },
   "source": [
    "## 6. Configuración inicial del sistema\n",
    "\n",
    "Ahora bien, para poder usar **GitHub** necesitas una configuración inicial. A continuación, se muestran los pasos que deben ser realizados una vez (o una vez por computadora).\n",
    "\n",
    "* Registrarse para tener una cuenta gratis.\n",
    "* Instalar Git.\n",
    "* Instalar un cliente local Git (*opcional pero muy recomendado*)\n",
    "* Confirmar\n",
    "\n",
    "Una vez realizado esto, ya estás listo para usar Git y GitHub! Algunas recomendaciones:\n",
    "\n",
    "* Considerar usar una interfaz gráfica para Git, en lugar de restringirse a la interfaz de línea de comandos.\n",
    "* Establecer confianza en los conceptos básicos (por ejemplo, hacer un cambio, confirmarlo, impulsarlo) antes de pasar a un uso más avanzado (por ejemplo, ramificar).\n",
    "* Comprometerse con el uso de Git en un proyecto que te proporcionará práctica sostenida durante varios meses. \n"
   ]
  },
  {
   "cell_type": "markdown",
   "id": "1f9f5932",
   "metadata": {
    "slideshow": {
     "slide_type": "slide"
    }
   },
   "source": [
    "![](https://media.giphy.com/media/du3J3cXyzhj75IOgvA/giphy.gif)\n",
    "\n",
    "[Fuente: giphy](https://media.giphy.com/media/du3J3cXyzhj75IOgvA/giphy.gif)\n"
   ]
  },
  {
   "cell_type": "markdown",
   "id": "a1d8f2b7",
   "metadata": {
    "slideshow": {
     "slide_type": "slide"
    }
   },
   "source": [
    "## 7. Repositorios y flujos de trabajo\n",
    "\n",
    "### Proyectos nuevos o ya existentes\n",
    "\n",
    "* Especificar un directorio local o un folder para ello\n",
    "* Hacer un *RStudio Proyecto* (solo aplica para usuarios de R)\n",
    "* Hacerlo un repositorio Git\n"
   ]
  },
  {
   "cell_type": "markdown",
   "id": "04be6010",
   "metadata": {
    "slideshow": {
     "slide_type": "slide"
    }
   },
   "source": [
    "## 7. Repositorios y flujos de trabajo\n",
    "\n",
    "### ¿Cómo funciona?\n",
    "\n",
    "1. Crea tus scripts de R, Python o lo que uses como en cualquier repositorio normal. Peeeero, en vez de *guardar* los archivos individualmente, puedes realizar **commits** periodicamente, lo cual tomará una fotografía (*snapshot*) de todos los archivos incluidos en el proyecto.\n",
    "2. *Empuja* (*push*) tus **commits** a GitHub periodicamente\n",
    "\n",
    "Aunque al principio puede parecer diferente, con la práctica se convierte en una parte natural de la rutina de trabajo, incluso para personas sin experiencia previa en Git."
   ]
  },
  {
   "cell_type": "markdown",
   "id": "d9e1247e",
   "metadata": {
    "slideshow": {
     "slide_type": "slide"
    }
   },
   "source": [
    "![](https://media.giphy.com/media/VePtB3roynxfLYicuV/giphy.gif)\n",
    "\n",
    "[Fuente: giphy](https://media.giphy.com/media/VePtB3roynxfLYicuV/giphy.gif)"
   ]
  },
  {
   "cell_type": "markdown",
   "id": "4ec9a55b",
   "metadata": {
    "slideshow": {
     "slide_type": "slide"
    }
   },
   "source": [
    "## 8. *Commits*, *diffs* y *tags*\n",
    "\n",
    "¡Ya hemos conectado los conceptos fundamentales de Git en el flujo de trabajo de la *Ciencia de Datos*!\n",
    "\n",
    "* *repository*: es solo un directorio de archivos que Git administra de manera integral.\n",
    "* *commit*: funciona como una foto instantánea de todos los archivos del repositorio, en un momento específico.\n",
    "* *diff*: Considere la versión A de un archivo y una versión modificada, la versión B. Supongamos que la versión A fue parte de un _commit_ de Git y la versión B fue parte del siguiente _commit_. El conjunto de diferencias entre A y B se llama \"**diff**\" y los usuarios de Git contemplan mucho estas diferencias. \n",
    "* *SHA*: Una cadena aparentemente aleatoria de 40 letras y números (de hecho, no es aleatoria, sino un código (_hash_) de comprobación del _commit_).\n",
    "* *tag*: Cada _commit_ necesita algún tipo de apodo para que puedas identificarla de manera rápida.\n"
   ]
  },
  {
   "cell_type": "markdown",
   "id": "b37b1eae",
   "metadata": {
    "slideshow": {
     "slide_type": "slide"
    }
   },
   "source": [
    "![](https://github.com/disita/Proyectos_GitHub_Presentation/blob/main/Imagenes/commits.png?raw=true)\n",
    "\n",
    "Fuente: Brayan, 2017\n",
    "\n",
    "Historial de confirmaciones parciales para el ejemplo de _iris_, destacando diferencias, mensajes de confirmación, SHA y etiquetas."
   ]
  },
  {
   "cell_type": "markdown",
   "id": "986890c5",
   "metadata": {
    "slideshow": {
     "slide_type": "slide"
    }
   },
   "source": [
    "## 9. Markdown es especial en GitHub\n",
    "\n",
    "**Markdown** es un lenguaje de marcado ligero que se utiliza ampliamente en sitios web (WordPress, StackOverflow y GitHub). A diferencia de HTML y LaTeX, Markdown se centra en la legibilidad humana y permite a los usuarios crear contenido web con enlaces y formato básico de manera sencilla. Cualquier archivo escrito en Markdown se renderiza en GitHub de manera similar a HTML, lo que significa que la formatación y los enlaces funcionan automáticamente.\n",
    "\n",
    "Al incluir algunos archivos explicativos en formato Markdown en tu repositorio, puedes obtener un sitio web del proyecto actualizado automáticamente en GitHub sin esfuerzo adicional. GitHub renderiza un archivo README.md en la carpeta principal como una página de inicio cuando las personas visitan esa carpeta en el navegador. Esto es útil para proporcionar información sobre el proyecto y su documentación."
   ]
  },
  {
   "cell_type": "markdown",
   "id": "9a3aa30b",
   "metadata": {
    "slideshow": {
     "slide_type": "slide"
    }
   },
   "source": [
    "## 10. Markdown es especial para usuarios de R\n",
    "\n",
    "Markdown es especialmente importante para los usuarios de R debido a R Markdown, que es simplemente Markdown que incluye fragmentos de código R. Puedes escribir documentos R Markdown (.Rmd) con facilidad, y el paquete `rmarkdown` convierte estos archivos a Markdown (.md), ejecutando el código y mostrando los resultados, incluyendo gráficos. \n",
    "\n",
    "Esto es posible gracias a `knitr`. Además, este proceso se facilita en RStudio, pero no está limitado a esta aplicación. Cualquier usuario de R puede llamar a `rmarkdown::render(\"foo.Rmd\")`"
   ]
  },
  {
   "cell_type": "markdown",
   "id": "671e63b0",
   "metadata": {
    "slideshow": {
     "slide_type": "slide"
    }
   },
   "source": [
    "![](https://github.com/disita/Proyectos_GitHub_Presentation/blob/main/Imagenes/rmd.png?raw=true)\n",
    "\n",
    "* A: R Markdown. \n",
    "* B: R script, equivalente a R Markdown en A. \n",
    "* C: El mismo resultado renderizado producido en A o B. Esto es cómo se ve Markdown en GitHub\n",
    "\n",
    "Fuente: Brayan, 2017\n",
    "\n"
   ]
  },
  {
   "cell_type": "markdown",
   "id": "517cf3b4",
   "metadata": {
    "slideshow": {
     "slide_type": "slide"
    }
   },
   "source": [
    "## 11. Con qué archivos hacer _commit_\n",
    "\n",
    "Al trabajar con Git y GitHub, debes decidir qué tipos de archivos rastrear y compartir. Esto incluye archivos fuente (como scripts), archivos de configuración y archivos derivados (como datos y gráficos). Los archivos intermedios suelen ignorarse.\n",
    "\n",
    "Al tomar decisiones sobre rastreo, considera si un archivo es útil para otros y si funciona bien con Git/GitHub. Evita archivos grandes o binarios que puedan ralentizar el repositorio o causar conflictos de fusión.\n",
    "\n",
    "En si, no hay una regla fija, pero elige una política que se adapte a tus necesidades y preferencias, y comienza rastreando más de lo necesario al principio."
   ]
  },
  {
   "cell_type": "markdown",
   "id": "72769db6",
   "metadata": {
    "slideshow": {
     "slide_type": "slide"
    }
   },
   "source": [
    "## 12. Colaboración\n",
    "\n",
    "La colaboración es la principal ventaja de usar Git y GitHub. Git permite a múltiples colaboradores trabajar juntos de manera eficiente, similar a editar un documento en Google Docs. GitHub actúa como un colaborador central que almacena la versión principal del proyecto.\n",
    "\n",
    "Cuando varios colaboradores hacen cambios en el mismo archivo, pueden surgir conflictos de fusión, que deben resolverse manualmente. Es importante evitar conflictos mediante _commits_ frecuentes y sincronización regular con GitHub.\n",
    "\n",
    "De esta manera, Git y GitHub facilitan la colaboración en proyectos, aunque es importante manejar los conflictos de fusión cuando surgen y tomar precauciones para evitarlos."
   ]
  },
  {
   "cell_type": "markdown",
   "id": "0dcffd0e",
   "metadata": {
    "slideshow": {
     "slide_type": "slide"
    }
   },
   "source": [
    "![](https://media.giphy.com/media/487L0pNZKONFN01oHO/giphy.gif)\n",
    "\n",
    "[Fuente: giphy](https://media.giphy.com/media/487L0pNZKONFN01oHO/giphy.gif)"
   ]
  },
  {
   "cell_type": "markdown",
   "id": "9cc2a82f",
   "metadata": {
    "slideshow": {
     "slide_type": "slide"
    }
   },
   "source": [
    "## 13. GitHub como presencia web\n",
    "\n",
    "Tener un proyecto en GitHub automáticamente le da presencia en la web, permitiendo que otros te vean y descarguen. GitHub también ofrece opciones para crear sitios web desde tu repositorio. \n",
    "\n",
    "Para hacer un repositorio más accesible, utiliza formatos web amigables como Markdown, extensiones de archivo estándar para resaltar la sintaxis y enlaces internos para explicar cómo se relacionan los elementos del proyecto. \n",
    "\n",
    "Estas prácticas facilitan que las personas interactúen con tu trabajo en GitHub."
   ]
  },
  {
   "cell_type": "markdown",
   "id": "5b9da7cb",
   "metadata": {
    "slideshow": {
     "slide_type": "slide"
    }
   },
   "source": [
    "## 14. ¿Qué sigue?\n",
    "\n",
    "El artículo aborda el uso de Git y GitHub en contextos estadísticos y analíticos de datos. Se mencionan temas avanzados y se destaca GitHub como una plataforma específica, pero se sugiere que los principios generales se aplican a otras plataformas. \n",
    "\n",
    "Se enfatiza la capacidad de crear repositorios privados en las plataformas de alojamiento y se mencionan opciones para escalabilidad. \n",
    "\n",
    "Además, se resalta la importancia de las ramas (branches) y las solicitudes de extracción (pull requests) como características poderosas de Git/GitHub, especialmente para la colaboración en proyectos y revisiones estructuradas."
   ]
  },
  {
   "cell_type": "markdown",
   "id": "7c3ead15",
   "metadata": {
    "slideshow": {
     "slide_type": "slide"
    }
   },
   "source": [
    "## 15. Llamada a la acción\n",
    "\n",
    "La **estadística** es importante en la Ciencia de Datos, pero la Ciencia de Datos no se limita a la estadística. Existe un debate sobre su relación. \n",
    "\n",
    "Los departamentos de estadística buscan unirse a la Ciencia de Datos en las universidades, pero su éxito varía. \n",
    "\n",
    "Mantenerse al día implica adoptar flujos de trabajo y herramientas modernas. La Estadística puede afirmarse como una disciplina central en la Ciencia de Datos si reconoce estos aspectos y adopta un enfoque más holístico."
   ]
  },
  {
   "cell_type": "markdown",
   "id": "e7e441a9",
   "metadata": {
    "slideshow": {
     "slide_type": "slide"
    }
   },
   "source": [
    "# ¡Gracias!\n",
    "\n",
    "<br>\n",
    "\n",
    "![](https://media.giphy.com/media/3oKIPnAiaMCws8nOsE/giphy.gif)\n",
    "\n",
    "[Fuente: giphy](https://media.giphy.com/media/3oKIPnAiaMCws8nOsE/giphy.gif)"
   ]
  },
  {
   "cell_type": "markdown",
   "id": "6346b556",
   "metadata": {
    "slideshow": {
     "slide_type": "slide"
    }
   },
   "source": [
    "## Referencias\n",
    "\n",
    "* Bryan, J. (2017, 28 de agosto). _Excuse me, do you have a moment to talk about version control?_ [Conferencia en línea]. RStudio and the Department of Statistics, University of British Columbia.\n",
    "* [RISE](https://rise.readthedocs.io/en/stable/)\n",
    "* https://mljar.com/blog/jupyter-notebook-presentation/\n",
    "* https://www.edlitera.com/blog/posts/rise-presentations-jupyter"
   ]
  }
 ],
 "metadata": {
  "celltoolbar": "Slideshow",
  "kernelspec": {
   "display_name": "Python 3 (ipykernel)",
   "language": "python",
   "name": "python3"
  },
  "language_info": {
   "codemirror_mode": {
    "name": "ipython",
    "version": 3
   },
   "file_extension": ".py",
   "mimetype": "text/x-python",
   "name": "python",
   "nbconvert_exporter": "python",
   "pygments_lexer": "ipython3",
   "version": "3.11.4"
  }
 },
 "nbformat": 4,
 "nbformat_minor": 5
}
